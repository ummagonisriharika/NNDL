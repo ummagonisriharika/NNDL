{
  "nbformat": 4,
  "nbformat_minor": 0,
  "metadata": {
    "colab": {
      "name": "Assignment05.ipynb",
      "provenance": [],
      "authorship_tag": "ABX9TyM2ieaNOZpwHkEa15Uh48p3",
      "include_colab_link": true
    },
    "kernelspec": {
      "name": "python3",
      "display_name": "Python 3"
    },
    "language_info": {
      "name": "python"
    }
  },
  "cells": [
    {
      "cell_type": "markdown",
      "metadata": {
        "id": "view-in-github",
        "colab_type": "text"
      },
      "source": [
        "<a href=\"https://colab.research.google.com/github/ummagonisriharika/NNDL/blob/master/Assignment-5.ipynb\" target=\"_parent\"><img src=\"https://colab.research.google.com/assets/colab-badge.svg\" alt=\"Open In Colab\"/></a>"
      ]
    },
    {
      "cell_type": "markdown",
      "metadata": {
        "id": "WUpvT_wSiiow"
      },
      "source": [
        "ASSIGNMENT 5"
      ]
    },
    {
      "cell_type": "code",
      "metadata": {
        "colab": {
          "base_uri": "https://localhost:8080/"
        },
        "id": "XgK3DYkrimdQ",
        "outputId": "43aa3a2b-f0e3-49f7-9ef1-c224409f12c9"
      },
      "source": [
        "x=[0.2,0.4,0.6,0.8]\n",
        "y=[3.4,3.8,4.2,4.6]\n",
        "m=1\n",
        "c=-1\n",
        "n=0.1\n",
        "epochs=2\n",
        "bs=2\n",
        "ns=4\n",
        "nb=int(ns/bs)\n",
        "\n",
        "#2 splitting the data into batches\n",
        "t=[]\n",
        "p=0\n",
        "i=0\n",
        "v=0\n",
        "q=0\n",
        "w=0\n",
        "\n",
        "for k in range(0,nb,1):\n",
        "    v=0\n",
        "    for i in range(q,nb*bs,1):\n",
        "        if v<bs:\n",
        "            #print('i=',w)\n",
        "            t.append(x[w])\n",
        "            v=v+1\n",
        "            w=w+1\n",
        "        else:\n",
        "            t.append(y[p])\n",
        "            p=p+1\n",
        "    i=i+1\n",
        "print(t)\n",
        "\n",
        "a=[]\n",
        "f=0\n",
        "for i in range(0,nb,1):\n",
        "    a.append(t[f:(f+bs*nb)])\n",
        "    f=f+(bs*nb)\n",
        "print('\\nBatches :',a)"
      ],
      "execution_count": 1,
      "outputs": [
        {
          "output_type": "stream",
          "text": [
            "[0.2, 0.4, 3.4, 3.8, 0.6, 0.8, 4.2, 4.6]\n",
            "\n",
            "Batches : [[0.2, 0.4, 3.4, 3.8], [0.6, 0.8, 4.2, 4.6]]\n"
          ],
          "name": "stdout"
        }
      ]
    },
    {
      "cell_type": "code",
      "metadata": {
        "colab": {
          "base_uri": "https://localhost:8080/"
        },
        "id": "IZ0UZXYTiuLv",
        "outputId": "e5d942b3-33d6-4958-91d9-35f8d276d20c"
      },
      "source": [
        "#s=-2\n",
        "s0=0\n",
        "z=1\n",
        "dem=0\n",
        "dec=0\n",
        "dm=0\n",
        "dc=0\n",
        "#c=-1\n",
        "for i in range(0,epochs,1): #iters\n",
        "    \n",
        "    for b in range(0,nb,1): #batches\n",
        "        \n",
        "        s0=2\n",
        "        dem=0\n",
        "        dec=0\n",
        "        \n",
        "        for s in range(0,bs,1):\n",
        "            dem=dem+((a[b][s0]-(m*a[b][s])-c)*a[b][s])\n",
        "            dec=dec+(a[b][s0]-(m*a[b][s])-c)\n",
        "            s0=s0+1  \n",
        "        dem=-dem/bs\n",
        "        dec=-dec/bs\n",
        "        dm=-n*dem\n",
        "        dc=-n*dec\n",
        "        m=m+dm\n",
        "        c=c+dc\n",
        "        \n",
        "print('m =',m,'c =',c)"
      ],
      "execution_count": 2,
      "outputs": [
        {
          "output_type": "stream",
          "text": [
            "m = 1.74491399 c = 0.49570617\n"
          ],
          "name": "stdout"
        }
      ]
    },
    {
      "cell_type": "code",
      "metadata": {
        "colab": {
          "base_uri": "https://localhost:8080/"
        },
        "id": "aayLIfkGiyvf",
        "outputId": "d62fae7d-e579-426f-a0cf-c381f4215017"
      },
      "source": [
        "yp=0\n",
        "s=0\n",
        "for i in range(0,ns,1):\n",
        "    yp=y[i]-m*x[i]+c  #calculating 'yp' value for each sample\n",
        "    s=s+(y[i]-yp)**2  #summing them up to calculate MSE\n",
        "s=s/ns\n",
        "print(\"Mean Square Error :\",s)"
      ],
      "execution_count": 3,
      "outputs": [
        {
          "output_type": "stream",
          "text": [
            "Mean Square Error : 0.2941774257630666\n"
          ],
          "name": "stdout"
        }
      ]
    }
  ]
}