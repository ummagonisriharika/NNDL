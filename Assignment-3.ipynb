{
  "nbformat": 4,
  "nbformat_minor": 0,
  "metadata": {
    "colab": {
      "name": "Assignment03.ipynb",
      "provenance": [],
      "authorship_tag": "ABX9TyOuWVTb+mOAJMsEFiKT3sVQ",
      "include_colab_link": true
    },
    "kernelspec": {
      "name": "python3",
      "display_name": "Python 3"
    },
    "language_info": {
      "name": "python"
    }
  },
  "cells": [
    {
      "cell_type": "markdown",
      "metadata": {
        "id": "view-in-github",
        "colab_type": "text"
      },
      "source": [
        "<a href=\"https://colab.research.google.com/github/ummagonisriharika/NNDL/blob/master/Assignment-3.ipynb\" target=\"_parent\"><img src=\"https://colab.research.google.com/assets/colab-badge.svg\" alt=\"Open In Colab\"/></a>"
      ]
    },
    {
      "cell_type": "markdown",
      "metadata": {
        "id": "1UwyyPoFQE0y"
      },
      "source": [
        "ASSIGNMENT 3"
      ]
    },
    {
      "cell_type": "code",
      "metadata": {
        "colab": {
          "base_uri": "https://localhost:8080/"
        },
        "id": "mPSDTAo9QBQV",
        "outputId": "36a63212-8353-4909-d966-707a11518b67"
      },
      "source": [
        "x=[0.2,0.4,0.6,0.8]\n",
        "y=[3.4,3.8,4.2,4.6]\n",
        "\n",
        "#1\n",
        "m=1\n",
        "c=1\n",
        "n=-0.1\n",
        "epochs=2\n",
        "ns=2\n",
        "#2\n",
        "it=0\n",
        "for i in range(0,epochs,1):\n",
        "    j=0\n",
        "    for j in range(0,ns,1):\n",
        "        dem=(-1)*((y[j]-m*x[j]-c)*x[j])\n",
        "        dec=(-1)*(y[j]-m*x[j]-c)\n",
        "        dm=(-1)*n*dem\n",
        "        dc=(-1)*n*dec\n",
        "        m=m+dm\n",
        "        c=c+dc\n",
        "        #print(m,c,x[j],y[j],'dem =',dem,dec,dm,dc,m,c)\n",
        "print(\"m =\",m,'c=',c)"
      ],
      "execution_count": null,
      "outputs": [
        {
          "output_type": "stream",
          "text": [
            "m = 0.6667573053439999 c= -0.07878977663999992\n"
          ],
          "name": "stdout"
        }
      ]
    },
    {
      "cell_type": "code",
      "metadata": {
        "colab": {
          "base_uri": "https://localhost:8080/"
        },
        "id": "jKwYdSd9QWon",
        "outputId": "8d276e36-477b-43c1-b432-5bbe36b66845"
      },
      "source": [
        "yp=0\n",
        "s=0\n",
        "for i in range(0,ns,1):\n",
        "    yp=y[i]-m*x[i]+c  #calculating 'yp' value for each sample\n",
        "    s=s+(y[i]-yp)**2  #summing them up to calculate MSE\n",
        "s=s/ns\n",
        "print(\"MINIMUM SQUARE ERROR :\",s)"
      ],
      "execution_count": null,
      "outputs": [
        {
          "output_type": "stream",
          "text": [
            "MINIMUM SQUARE ERROR : 0.08218455482262542\n"
          ],
          "name": "stdout"
        }
      ]
    }
  ]
}