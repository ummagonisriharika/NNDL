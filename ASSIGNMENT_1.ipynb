{
  "nbformat": 4,
  "nbformat_minor": 0,
  "metadata": {
    "colab": {
      "name": "ASSIGNMENT-1.ipynb",
      "provenance": [],
      "authorship_tag": "ABX9TyM4OjQz2mZU1gtySIVGolEC",
      "include_colab_link": true
    },
    "kernelspec": {
      "name": "python3",
      "display_name": "Python 3"
    }
  },
  "cells": [
    {
      "cell_type": "markdown",
      "metadata": {
        "id": "view-in-github",
        "colab_type": "text"
      },
      "source": [
        "<a href=\"https://colab.research.google.com/github/ummagonisriharika/NNDL/blob/master/ASSIGNMENT_1.ipynb\" target=\"_parent\"><img src=\"https://colab.research.google.com/assets/colab-badge.svg\" alt=\"Open In Colab\"/></a>"
      ]
    },
    {
      "cell_type": "code",
      "metadata": {
        "id": "9RUWcFAD3s_a"
      },
      "source": [
        "cur_x = 3\r\n",
        "learning_rate = 0.01\r\n",
        "previous_step_size = 1 \r\n",
        "maximum_iterations = 5\r\n",
        "iters = 0\r\n",
        "df = lambda x: 4*x**3+6*x "
      ],
      "execution_count": 25,
      "outputs": []
    },
    {
      "cell_type": "code",
      "metadata": {
        "colab": {
          "base_uri": "https://localhost:8080/"
        },
        "id": "dadN9uta4dVe",
        "outputId": "9423c9a6-35fb-4d90-ebb3-65f6adf370e1"
      },
      "source": [
        "while previous_step_size > iters < maximum_iterations:\r\n",
        "    prev_x = cur_x\r\n",
        "    cur_x = cur_x - rate * df(prev_x) \r\n",
        "    previous_step_size = abs(cur_x - prev_x) \r\n",
        "    iters = iters+1 \r\n",
        "    print(\"Iteration\",iters,\"\\nX value is\",cur_x)\r\n",
        "    \r\n",
        "print(\"The local minimum occurs at\", cur_x)"
      ],
      "execution_count": 26,
      "outputs": [
        {
          "output_type": "stream",
          "text": [
            "Iteration 1 \n",
            "X value is 1.74\n",
            "Iteration 2 \n",
            "X value is 1.42487904\n",
            "The local minimum occurs at 1.42487904\n"
          ],
          "name": "stdout"
        }
      ]
    }
  ]
}